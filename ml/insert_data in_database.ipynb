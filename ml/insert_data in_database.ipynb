{
 "cells": [
  {
   "attachments": {},
   "cell_type": "markdown",
   "metadata": {},
   "source": [
    "# Dataset"
   ]
  },
  {
   "cell_type": "code",
   "execution_count": null,
   "metadata": {},
   "outputs": [],
   "source": [
    "import pandas as pd\n",
    "df = pd.read_csv('data_with_tag.csv')\n",
    "df.loc[df['지역'].isnull(), '지역'] = '강북구'\n",
    "df.head()\n",
    "\n",
    "place_name_list = df['명칭']\n",
    "address_num_list = df['지번']\n",
    "address_name_list = df['도로명']\n",
    "info_list = df['대본']\n",
    "category_list = df['유형']"
   ]
  },
  {
   "attachments": {},
   "cell_type": "markdown",
   "metadata": {},
   "source": [
    "## mysql"
   ]
  },
  {
   "cell_type": "code",
   "execution_count": 29,
   "metadata": {},
   "outputs": [],
   "source": [
    "import pymysql\n",
    "import os\n",
    "\n",
    "mysql_HOST = os.environ.get('mysql_HOST')\n",
    "mysql_DBNAME = os.environ.get('mysql_DBNAME')\n",
    "mysql_USER = os.environ.get('mysql_USER')\n",
    "mysql_PASSWORD = os.environ.get('mysql_PASSWORD')\n",
    "conn = pymysql.connect(host=mysql_HOST, user=mysql_USER, password=mysql_PASSWORD, db=mysql_DBNAME, charset='utf8')"
   ]
  },
  {
   "cell_type": "code",
   "execution_count": 31,
   "metadata": {},
   "outputs": [
    {
     "name": "stdout",
     "output_type": "stream",
     "text": [
      "(1, '우이동계곡', '강북구 삼양로159길 60-7', '강북구 우이동 산 40-1', \"'우이동'은 도봉산과 북한산 사이의 계곡에 위치한 시민의 휴식처입니다. 우이동 입구에서 왼쪽으로는 백운대로 오르는 등산로가 있고, 도선사를 경유하여 인수봉 정상을 오를 수 있습니다. 계곡의 맑은 물을 따라 각종 별미를 자랑하는 음식점들이 줄을 이어 여름철엔 닭죽도 진리라고 해요. 민박도 가능하며, 3월, 4월에는 대학생들의 MT 장소로 선호됩니다.\\r\\n\\r\\n20분 정도 오르면 원불교 수도원, 성불사, 용덕사, 선운사, 광명사 등의 사찰을 찾을 수 있습니다. 입구에서의 분위기와는 달리 조용하고 차분한 분위기에서 또 다른 운치를 느낄 수 있어요. 산 정상에는 현재 군부대가 상주하고 있으며, 생태계가 서울에서도 드물게 잘 보존되는 우이령, 일명 바위고개로 이어져 있습니다.\\r\\n\\r\\n우이동에서는 우이암으로 이어지는 등산로가 열려 있습니다. 우이암까지 가는 길은 꽤 험하니 주의해 주세요. 우이암 옆을 지나 도봉산 주릉으로 올라가거나, 성황당, 도봉유원지로 하산하시면 됩니다.\\r\\n\", '관광지', '')\n",
      "(25, '우이동 먹거리마을', '강북구 삼양로181길 45', '강북구 우이동 216-14', '우이동은 도봉산과 북한산 사이의 계곡에 있는 시민들의 휴식처입니다. 우이동 입구에서 왼쪽으로 올라가면 백운대로 오르는 등산길이 있습니다. 도선사를 경유하여 인수봉 정상까지 오를 수도 있습니다. 20분 정도 오르면 원불교 수도원, 성불사, 용덕사, 선운사, 광명사 등 사찰을 방문할 수 있습니다. 입구에서의 분위기는 들뜨지만, 산을 오르면서 차분하고 또 다른 매력을 느낄 수 있습니다. 산 정상에는 군부대가 상주하고 있으며, 이곳은 서울에서도 드물게 잘 보존된 생태계인 우이령, 일명 바위고개로 이어집니다. 우이동에서는 우이암으로 이어지는 등산로도 있습니다. 우이암까지 가는 길은 꽤 험난하지만, 우이암 옆을 지나 도봉산 주릉으로 올라가게 됩니다. 여기서 북쪽으로 뻗은 주릉을 타거나 성황당, 도봉유원지로 하산하면 됩니다. 우이령은 예약자만 탐방이 가능합니다.', '관광지', '')\n",
      "(17, '보광사', '강북구 삼양로145길 176', '강북구 우이동 76-19', '안녕하세요! 보광사는 서울시 강북구 우이동 76-19번지 삼각산에 있는 재단법인 선학원 소속사찰입니다. 소나무가 빼곡히 들어서 숲을 이룬 우이동의 솔밭공원을 지나 포장된 길을 따라 걷다보면 삼각산 기슭에 자리한 보광사에 도착합니다. 보광사는 1788년 금강산에서 수도한 원담스님이 신원사를 창건하였고, 이후 한국전쟁으로 인해 소실되었습니다. 하지만 1979년 남산당 정일 스님이 포교의 원을 세우고 이곳에 주석하면서 불사를 시작하여 1980년 11월 보광사로 절 이름을 바꾸었습니다. 이후 스님은 가람을 일구어 오늘의 모습이 되도록 하였고, 대승경전산림법회와 참선법회를 정기적으로 열어 사람들에게 부처님의 가르침과 선법을 전하여 스스로 바른 길을 찾게 하였습니다. 이렇게 대중 교화에 혼을 쏟으셨던 정일스님은 2004년에 열반하셨지만, 보광사는 그 스님의 발원대로 명실상부한 포교의 도량으로서 자리매김하게 되었습니다. 더불어 보광사는 대중들과 함께 더욱 발전적인 모습으로 스님의 뜻을 이어나가고 있습니다. 소나무가 빼곡히 들어서 숲을 이룬 우이동의 솔밭공원을 지나 포장된 길을 따라 걷다보면 삼각산 기슭에 자리한 보광사에 도착합니다. 오늘도 보광사에서 멋진 시간을 보내세요!', '관광지', '')\n"
     ]
    }
   ],
   "source": [
    "# 관련 태그 이름을 가지고 있는 장소 정보 가져오기\n",
    "import pymysql\n",
    "value='우이'\n",
    "\n",
    "with conn.cursor() as cur:\n",
    "    cur.execute(f\"\"\"select DISTINCT p.place_id, p.place_name, p.address_name, p.address_num, p.info, p.category, p.picture\n",
    "from place p\n",
    "inner join\n",
    "(select p_h.PLACE_ID, p_h.TAG_ID\n",
    "FROM place_hashtag p_h\n",
    "inner join\n",
    "(select h.tag_id, h.data\n",
    "from hashtag as h\n",
    "where h.data like '%{value}%') t1\n",
    "on p_h.TAG_ID = t1.tag_id) t2\n",
    "on p.place_id = t2.place_id; \"\"\")\n",
    "    result = cur.fetchall()\n",
    "    for data in result:\n",
    "        print(data)\n",
    "            "
   ]
  },
  {
   "attachments": {},
   "cell_type": "markdown",
   "metadata": {},
   "source": [
    "## Insert"
   ]
  },
  {
   "cell_type": "code",
   "execution_count": null,
   "metadata": {},
   "outputs": [],
   "source": [
    "# Insert Place\n",
    "with conn.cursor() as cur:\n",
    "    for place_name, address_num, address_name, info, category in zip(place_name_list, address_num_list, address_name_list, info_list, category_list):\n",
    "        cur.execute(f\"insert into Place (place_name, address_num, address_name, info, category, picture) values ('{place_name}', '{address_num}', '{address_name}', '{info}', '{category}', '');\")\n",
    "        print(place_name)\n",
    "    conn.commit()"
   ]
  },
  {
   "cell_type": "code",
   "execution_count": null,
   "metadata": {},
   "outputs": [],
   "source": [
    "# Insert Hashtag\n",
    "tags = []\n",
    "for i in range(df.shape[0]):\n",
    "    tags += eval(df['태그only'][i])\n",
    "    tags = list(set(tags)) \n",
    "tags.sort()\n",
    "tags\n",
    "\n",
    "with conn.cursor() as cur:\n",
    "    for tag in tags:\n",
    "        cur.execute(f\"insert into Hashtag (data) values ('{tag}');\")\n",
    "    conn.commit()\n",
    "\n",
    "# Insert Place_Hashtag\n",
    "with conn.cursor() as cur:\n",
    "    place_tag = dict()\n",
    "    for i in range(df.shape[0]):\n",
    "        for j in eval(df.loc[i,'태그only']):\n",
    "            cur.execute(f\"insert into Place_Hashtag (PLACE_ID, TAG_ID) values ('{i+1}', '{tags.index(j)+1}');\")\n",
    "                        \n",
    "    conn.commit()"
   ]
  },
  {
   "attachments": {},
   "cell_type": "markdown",
   "metadata": {},
   "source": [
    "# postgres"
   ]
  },
  {
   "attachments": {},
   "cell_type": "markdown",
   "metadata": {},
   "source": [
    "## postgres 데이터 가져오기"
   ]
  },
  {
   "cell_type": "code",
   "execution_count": null,
   "metadata": {},
   "outputs": [],
   "source": [
    "import psycopg2\n",
    "import os\n",
    "\n",
    "DB_HOST = os.environ.get('DB_HOST')\n",
    "DB_DBNAME = os.environ.get('DB_DBNAME')\n",
    "DB_USER = os.environ.get('DB_USER')\n",
    "DB_PASSWORD = os.environ.get('DB_PASSWORD')\n",
    "DB_PORT = os.environ.get('DB_PORT')\n",
    "\n",
    "conn = psycopg2.connect(host=DB_HOST, dbname=DB_DBNAME, user=DB_USER, password=DB_PASSWORD, port=DB_PORT)\n",
    "with conn.cursor() as cur:\n",
    "    cur.execute(\"select * from place\")\n",
    "    result = cur.fetchall()\n",
    "    for data in result:\n",
    "        print(data)"
   ]
  },
  {
   "cell_type": "code",
   "execution_count": 33,
   "metadata": {},
   "outputs": [
    {
     "name": "stdout",
     "output_type": "stream",
     "text": [
      "(1, '우이동계곡', '강북구 삼양로159길 60-7', '강북구 우이동 산 40-1', \"'우이동''은 도봉산과 북한산 사이의 계곡에 위치한 시민의 휴식처입니다. 우이동 입구에서 왼쪽으로는 백운대로 오르는 등산로가 있고, 도선사를 경유하여 인수봉 정상을 오를 수 있습니다. 계곡의 맑은 물을 따라 각종 별미를 자랑하는 음식점들이 줄을 이어 여름철엔 닭죽도 진리라고 해요. 민박도 가능하며, 3월, 4월에는 대학생들의 MT 장소로 선호됩니다.\\r\\n\\r\\n20분 정도 오르면 원불교 수도원, 성불사, 용덕사, 선운사, 광명사 등의 사찰을 찾을 수 있습니다. 입구에서의 분위기와는 달리 조용하고 차분한 분위기에서 또 다른 운치를 느낄 수 있어요. 산 정상에는 현재 군부대가 상주하고 있으며, 생태계가 서울에서도 드물게 잘 보존되는 우이령, 일명 바위고개로 이어져 있습니다.\\r\\n\\r\\n우이동에서는 우이암으로 이어지는 등산로가 열려 있습니다. 우이암까지 가는 길은 꽤 험하니 주의해 주세요. 우이암 옆을 지나 도봉산 주릉으로 올라가거나, 성황당, 도봉유원지로 하산하시면 됩니다.\", '관광지', 'https://storage.googleapis.com/largo-storage/%E1%84%8B%E1%85%AE%E1%84%8B%E1%85%B5%E1%84%83%E1%85%A9%E1%86%BC%E1%84%80%E1%85%A8%E1%84%80%E1%85%A9%E1%86%A8.jpg')\n",
      "(17, '보광사', '강북구 삼양로145길 176', '강북구 우이동 76-19', '안녕하세요! 보광사는 서울시 강북구 우이동 76-19번지 삼각산에 있는 재단법인 선학원 소속사찰입니다. 소나무가 빼곡히 들어서 숲을 이룬 우이동의 솔밭공원을 지나 포장된 길을 따라 걷다보면 삼각산 기슭에 자리한 보광사에 도착합니다. 보광사는 1788년 금강산에서 수도한 원담스님이 신원사를 창건하였고, 이후 한국전쟁으로 인해 소실되었습니다. 하지만 1979년 남산당 정일 스님이 포교의 원을 세우고 이곳에 주석하면서 불사를 시작하여 1980년 11월 보광사로 절 이름을 바꾸었습니다. 이후 스님은 가람을 일구어 오늘의 모습이 되도록 하였고, 대승경전산림법회와 참선법회를 정기적으로 열어 사람들에게 부처님의 가르침과 선법을 전하여 스스로 바른 길을 찾게 하였습니다. 이렇게 대중 교화에 혼을 쏟으셨던 정일스님은 2004년에 열반하셨지만, 보광사는 그 스님의 발원대로 명실상부한 포교의 도량으로서 자리매김하게 되었습니다. 더불어 보광사는 대중들과 함께 더욱 발전적인 모습으로 스님의 뜻을 이어나가고 있습니다. 소나무가 빼곡히 들어서 숲을 이룬 우이동의 솔밭공원을 지나 포장된 길을 따라 걷다보면 삼각산 기슭에 자리한 보광사에 도착합니다. 오늘도 보광사에서 멋진 시간을 보내세요!', '관광지', 'https://storage.googleapis.com/largo-storage/%E1%84%87%E1%85%A9%E1%84%80%E1%85%AA%E1%86%BC%E1%84%89%E1%85%A1.jpeg')\n",
      "(25, '우이동 먹거리마을', '강북구 삼양로181길 45', '강북구 우이동 216-14', '우이동은 도봉산과 북한산 사이의 계곡에 있는 시민들의 휴식처입니다. 우이동 입구에서 왼쪽으로 올라가면 백운대로 오르는 등산길이 있습니다. 도선사를 경유하여 인수봉 정상까지 오를 수도 있습니다. 20분 정도 오르면 원불교 수도원, 성불사, 용덕사, 선운사, 광명사 등 사찰을 방문할 수 있습니다. 입구에서의 분위기는 들뜨지만, 산을 오르면서 차분하고 또 다른 매력을 느낄 수 있습니다. 산 정상에는 군부대가 상주하고 있으며, 이곳은 서울에서도 드물게 잘 보존된 생태계인 우이령, 일명 바위고개로 이어집니다. 우이동에서는 우이암으로 이어지는 등산로도 있습니다. 우이암까지 가는 길은 꽤 험난하지만, 우이암 옆을 지나 도봉산 주릉으로 올라가게 됩니다. 여기서 북쪽으로 뻗은 주릉을 타거나 성황당, 도봉유원지로 하산하면 됩니다. 우이령은 예약자만 탐방이 가능합니다.', '관광지', 'https://storage.googleapis.com/largo-storage/%E1%84%8B%E1%85%AE%E1%84%8B%E1%85%B5%E1%84%83%E1%85%A9%E1%86%BC%20%E1%84%86%E1%85%A5%E1%86%A8%E1%84%80%E1%85%A5%E1%84%85%E1%85%B5%E1%84%86%E1%85%A1%E1%84%8B%E1%85%B3%E1%86%AF.jpg')\n"
     ]
    }
   ],
   "source": [
    "# 관련 태그 이름을 가지고 있는 장소 정보 가져오기\n",
    "import psycopg2\n",
    "\n",
    "value='우이'\n",
    "with conn.cursor() as cur:\n",
    "    cur.execute(f\"\"\"select DISTINCT p.place_id, p.place_name, p.address_name, p.address_num, p.info, p.category, p.picture\n",
    "                from place p\n",
    "                inner join\n",
    "                (select p_h.PLACE_ID, p_h.TAG_ID\n",
    "                FROM place_hashtag p_h\n",
    "                inner join\n",
    "                (select h.tag_id, h.data\n",
    "                from hashtag as h\n",
    "                where h.data like '%{value}%') t1\n",
    "                on p_h.TAG_ID = t1.tag_id) t2\n",
    "                on p.place_id = t2.place_id; \"\"\")\n",
    "    result = cur.fetchall()\n",
    "    for data in result:\n",
    "        print(data)"
   ]
  },
  {
   "cell_type": "code",
   "execution_count": 3,
   "metadata": {},
   "outputs": [],
   "source": [
    "with conn.cursor() as cur:\n",
    "    cur.execute(\"select * from place_hashtag\")\n",
    "    result = cur.fetchall()\n",
    "    for data in result:\n",
    "        print(data)\n",
    "\n",
    "with conn.cursor() as cur:\n",
    "    cur.execute(\"select * from hashtag\")\n",
    "    result = cur.fetchall()\n",
    "    for data in result:\n",
    "        print(data)\n"
   ]
  },
  {
   "attachments": {},
   "cell_type": "markdown",
   "metadata": {},
   "source": [
    "## postgres의 hashtag, place_hashtag 테이블에 데이터 넣기"
   ]
  },
  {
   "cell_type": "code",
   "execution_count": null,
   "metadata": {},
   "outputs": [],
   "source": [
    "# Insert Hashtag\n",
    "tags = []\n",
    "for i in range(df.shape[0]):\n",
    "    tags += eval(df['태그only'][i])\n",
    "    tags = list(set(tags)) \n",
    "tags.sort()\n",
    "tags\n",
    "\n",
    "with conn.cursor() as cur:\n",
    "    for tag in tags:\n",
    "        cur.execute(f\"insert into Hashtag (data) values ('{tag}');\")\n",
    "    conn.commit()\n",
    "\n",
    "\n",
    "# Insert Place_Hashtag\n",
    "with conn.cursor() as cur:\n",
    "    place_tag = dict()\n",
    "    for i in range(df.shape[0]):\n",
    "        for j in eval(df.loc[i,'태그only']):\n",
    "            cur.execute(f\"insert into Place_Hashtag (PLACE_ID, TAG_ID) values ('{i+1}', '{tags.index(j)+1}');\")\n",
    "    conn.commit()"
   ]
  }
 ],
 "metadata": {
  "kernelspec": {
   "display_name": "auto_trade",
   "language": "python",
   "name": "python3"
  },
  "language_info": {
   "codemirror_mode": {
    "name": "ipython",
    "version": 3
   },
   "file_extension": ".py",
   "mimetype": "text/x-python",
   "name": "python",
   "nbconvert_exporter": "python",
   "pygments_lexer": "ipython3",
   "version": "3.8.2"
  },
  "orig_nbformat": 4
 },
 "nbformat": 4,
 "nbformat_minor": 2
}
